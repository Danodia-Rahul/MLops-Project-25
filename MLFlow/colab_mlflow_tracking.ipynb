{
  "nbformat": 4,
  "nbformat_minor": 0,
  "metadata": {
    "colab": {
      "provenance": [],
      "gpuType": "T4"
    },
    "kernelspec": {
      "name": "python3",
      "display_name": "Python 3"
    },
    "language_info": {
      "name": "python"
    },
    "accelerator": "GPU"
  },
  "cells": [
    {
      "cell_type": "markdown",
      "source": [
        "###AWS Setup"
      ],
      "metadata": {
        "id": "PfK3kJDiE2N2"
      }
    },
    {
      "cell_type": "code",
      "source": [
        "!pip install mlflow -q\n",
        "\n",
        "!pip install aws configure\n",
        "!pip install awscli\n",
        "!aws configure\n",
        "\n",
        "!pip install boto3"
      ],
      "metadata": {
        "id": "g8l2wovQkZup"
      },
      "execution_count": null,
      "outputs": []
    },
    {
      "cell_type": "markdown",
      "source": [
        "###Kaggle Setup"
      ],
      "metadata": {
        "id": "Cb9mt6zPE8UX"
      }
    },
    {
      "cell_type": "code",
      "source": [
        "from google.colab import files\n",
        "from pathlib import Path\n",
        "import zipfile\n",
        "import shutil\n",
        "\n",
        "def setup():\n",
        "    files.upload()\n",
        "    src_dir = Path('/content/kaggle.json')\n",
        "    dest_dir = Path('/root/.config/kaggle')\n",
        "    dest_dir.mkdir(parents=True, exist_ok=True)\n",
        "    shutil.move(str(src_dir), str(dest_dir))\n",
        "    (dest_dir/'kaggle.json').chmod(0o600)\n",
        "\n",
        "    !kaggle competitions download -c playground-series-s4e12\n",
        "\n",
        "    zipfile.ZipFile('/content/playground-series-s4e12.zip').extractall()\n",
        "\n",
        "setup()"
      ],
      "metadata": {
        "id": "TeSebPhswzlb",
        "colab": {
          "base_uri": "https://localhost:8080/",
          "height": 125
        },
        "outputId": "dcf59cd9-6150-4b97-b69b-f86ee3d76c27"
      },
      "execution_count": 2,
      "outputs": [
        {
          "output_type": "display_data",
          "data": {
            "text/plain": [
              "<IPython.core.display.HTML object>"
            ],
            "text/html": [
              "\n",
              "     <input type=\"file\" id=\"files-b0a008fe-a927-46c9-9ac8-371523d5b446\" name=\"files[]\" multiple disabled\n",
              "        style=\"border:none\" />\n",
              "     <output id=\"result-b0a008fe-a927-46c9-9ac8-371523d5b446\">\n",
              "      Upload widget is only available when the cell has been executed in the\n",
              "      current browser session. Please rerun this cell to enable.\n",
              "      </output>\n",
              "      <script>// Copyright 2017 Google LLC\n",
              "//\n",
              "// Licensed under the Apache License, Version 2.0 (the \"License\");\n",
              "// you may not use this file except in compliance with the License.\n",
              "// You may obtain a copy of the License at\n",
              "//\n",
              "//      http://www.apache.org/licenses/LICENSE-2.0\n",
              "//\n",
              "// Unless required by applicable law or agreed to in writing, software\n",
              "// distributed under the License is distributed on an \"AS IS\" BASIS,\n",
              "// WITHOUT WARRANTIES OR CONDITIONS OF ANY KIND, either express or implied.\n",
              "// See the License for the specific language governing permissions and\n",
              "// limitations under the License.\n",
              "\n",
              "/**\n",
              " * @fileoverview Helpers for google.colab Python module.\n",
              " */\n",
              "(function(scope) {\n",
              "function span(text, styleAttributes = {}) {\n",
              "  const element = document.createElement('span');\n",
              "  element.textContent = text;\n",
              "  for (const key of Object.keys(styleAttributes)) {\n",
              "    element.style[key] = styleAttributes[key];\n",
              "  }\n",
              "  return element;\n",
              "}\n",
              "\n",
              "// Max number of bytes which will be uploaded at a time.\n",
              "const MAX_PAYLOAD_SIZE = 100 * 1024;\n",
              "\n",
              "function _uploadFiles(inputId, outputId) {\n",
              "  const steps = uploadFilesStep(inputId, outputId);\n",
              "  const outputElement = document.getElementById(outputId);\n",
              "  // Cache steps on the outputElement to make it available for the next call\n",
              "  // to uploadFilesContinue from Python.\n",
              "  outputElement.steps = steps;\n",
              "\n",
              "  return _uploadFilesContinue(outputId);\n",
              "}\n",
              "\n",
              "// This is roughly an async generator (not supported in the browser yet),\n",
              "// where there are multiple asynchronous steps and the Python side is going\n",
              "// to poll for completion of each step.\n",
              "// This uses a Promise to block the python side on completion of each step,\n",
              "// then passes the result of the previous step as the input to the next step.\n",
              "function _uploadFilesContinue(outputId) {\n",
              "  const outputElement = document.getElementById(outputId);\n",
              "  const steps = outputElement.steps;\n",
              "\n",
              "  const next = steps.next(outputElement.lastPromiseValue);\n",
              "  return Promise.resolve(next.value.promise).then((value) => {\n",
              "    // Cache the last promise value to make it available to the next\n",
              "    // step of the generator.\n",
              "    outputElement.lastPromiseValue = value;\n",
              "    return next.value.response;\n",
              "  });\n",
              "}\n",
              "\n",
              "/**\n",
              " * Generator function which is called between each async step of the upload\n",
              " * process.\n",
              " * @param {string} inputId Element ID of the input file picker element.\n",
              " * @param {string} outputId Element ID of the output display.\n",
              " * @return {!Iterable<!Object>} Iterable of next steps.\n",
              " */\n",
              "function* uploadFilesStep(inputId, outputId) {\n",
              "  const inputElement = document.getElementById(inputId);\n",
              "  inputElement.disabled = false;\n",
              "\n",
              "  const outputElement = document.getElementById(outputId);\n",
              "  outputElement.innerHTML = '';\n",
              "\n",
              "  const pickedPromise = new Promise((resolve) => {\n",
              "    inputElement.addEventListener('change', (e) => {\n",
              "      resolve(e.target.files);\n",
              "    });\n",
              "  });\n",
              "\n",
              "  const cancel = document.createElement('button');\n",
              "  inputElement.parentElement.appendChild(cancel);\n",
              "  cancel.textContent = 'Cancel upload';\n",
              "  const cancelPromise = new Promise((resolve) => {\n",
              "    cancel.onclick = () => {\n",
              "      resolve(null);\n",
              "    };\n",
              "  });\n",
              "\n",
              "  // Wait for the user to pick the files.\n",
              "  const files = yield {\n",
              "    promise: Promise.race([pickedPromise, cancelPromise]),\n",
              "    response: {\n",
              "      action: 'starting',\n",
              "    }\n",
              "  };\n",
              "\n",
              "  cancel.remove();\n",
              "\n",
              "  // Disable the input element since further picks are not allowed.\n",
              "  inputElement.disabled = true;\n",
              "\n",
              "  if (!files) {\n",
              "    return {\n",
              "      response: {\n",
              "        action: 'complete',\n",
              "      }\n",
              "    };\n",
              "  }\n",
              "\n",
              "  for (const file of files) {\n",
              "    const li = document.createElement('li');\n",
              "    li.append(span(file.name, {fontWeight: 'bold'}));\n",
              "    li.append(span(\n",
              "        `(${file.type || 'n/a'}) - ${file.size} bytes, ` +\n",
              "        `last modified: ${\n",
              "            file.lastModifiedDate ? file.lastModifiedDate.toLocaleDateString() :\n",
              "                                    'n/a'} - `));\n",
              "    const percent = span('0% done');\n",
              "    li.appendChild(percent);\n",
              "\n",
              "    outputElement.appendChild(li);\n",
              "\n",
              "    const fileDataPromise = new Promise((resolve) => {\n",
              "      const reader = new FileReader();\n",
              "      reader.onload = (e) => {\n",
              "        resolve(e.target.result);\n",
              "      };\n",
              "      reader.readAsArrayBuffer(file);\n",
              "    });\n",
              "    // Wait for the data to be ready.\n",
              "    let fileData = yield {\n",
              "      promise: fileDataPromise,\n",
              "      response: {\n",
              "        action: 'continue',\n",
              "      }\n",
              "    };\n",
              "\n",
              "    // Use a chunked sending to avoid message size limits. See b/62115660.\n",
              "    let position = 0;\n",
              "    do {\n",
              "      const length = Math.min(fileData.byteLength - position, MAX_PAYLOAD_SIZE);\n",
              "      const chunk = new Uint8Array(fileData, position, length);\n",
              "      position += length;\n",
              "\n",
              "      const base64 = btoa(String.fromCharCode.apply(null, chunk));\n",
              "      yield {\n",
              "        response: {\n",
              "          action: 'append',\n",
              "          file: file.name,\n",
              "          data: base64,\n",
              "        },\n",
              "      };\n",
              "\n",
              "      let percentDone = fileData.byteLength === 0 ?\n",
              "          100 :\n",
              "          Math.round((position / fileData.byteLength) * 100);\n",
              "      percent.textContent = `${percentDone}% done`;\n",
              "\n",
              "    } while (position < fileData.byteLength);\n",
              "  }\n",
              "\n",
              "  // All done.\n",
              "  yield {\n",
              "    response: {\n",
              "      action: 'complete',\n",
              "    }\n",
              "  };\n",
              "}\n",
              "\n",
              "scope.google = scope.google || {};\n",
              "scope.google.colab = scope.google.colab || {};\n",
              "scope.google.colab._files = {\n",
              "  _uploadFiles,\n",
              "  _uploadFilesContinue,\n",
              "};\n",
              "})(self);\n",
              "</script> "
            ]
          },
          "metadata": {}
        },
        {
          "output_type": "stream",
          "name": "stdout",
          "text": [
            "Saving kaggle.json to kaggle.json\n",
            "Downloading playground-series-s4e12.zip to /content\n",
            "  0% 0.00/75.5M [00:00<?, ?B/s]\n",
            "100% 75.5M/75.5M [00:00<00:00, 1.41GB/s]\n"
          ]
        }
      ]
    },
    {
      "cell_type": "code",
      "source": [
        "import mlflow\n",
        "import numpy as np\n",
        "import pandas as pd"
      ],
      "metadata": {
        "id": "jAgnmj1XxnVq"
      },
      "execution_count": 3,
      "outputs": []
    },
    {
      "cell_type": "code",
      "source": [
        "import boto3"
      ],
      "metadata": {
        "id": "jZxWZK0V-x_R"
      },
      "execution_count": 4,
      "outputs": []
    },
    {
      "cell_type": "code",
      "source": [
        "from hyperopt import fmin, tpe, hp, STATUS_OK\n",
        "from hyperopt.pyll import scope\n",
        "import xgboost as xgb\n",
        "from sklearn.metrics import root_mean_squared_error\n",
        "import mlflow\n",
        "import mlflow.xgboost"
      ],
      "metadata": {
        "id": "f7XplsDnh8x_"
      },
      "execution_count": 5,
      "outputs": []
    },
    {
      "cell_type": "code",
      "source": [
        "import pickle\n",
        "from sklearn.model_selection import train_test_split\n",
        "from sklearn.pipeline import Pipeline\n",
        "from sklearn.impute import SimpleImputer\n",
        "from sklearn.preprocessing import OrdinalEncoder\n",
        "from sklearn.compose import ColumnTransformer"
      ],
      "metadata": {
        "id": "eaJGADByZkyc"
      },
      "execution_count": 6,
      "outputs": []
    },
    {
      "cell_type": "code",
      "source": [
        "from mlflow import MlflowClient\n",
        "from mlflow.entities import ViewType"
      ],
      "metadata": {
        "id": "pGh0Nk4fWRYq"
      },
      "execution_count": 7,
      "outputs": []
    },
    {
      "cell_type": "code",
      "source": [
        "MLFLOW_TRACKING_URI = 'http://ec2-56-228-36-113.eu-north-1.compute.amazonaws.com:5000'"
      ],
      "metadata": {
        "id": "-_CYa2zF8vHl"
      },
      "execution_count": 8,
      "outputs": []
    },
    {
      "cell_type": "markdown",
      "source": [
        "### Preprocess data"
      ],
      "metadata": {
        "id": "fG8VjCDJFHG5"
      }
    },
    {
      "cell_type": "code",
      "source": [
        "def dump_pickle(obj, filename):\n",
        "    with open(filename, 'wb') as f_out:\n",
        "        pickle.dump(obj, f_out)\n",
        "\n",
        "\n",
        "def prepare_data(path='/content/train.csv'):\n",
        "    target = 'Premium Amount'\n",
        "    features = ['Age', 'Annual Income', 'Number of Dependents',\n",
        "                'Occupation', 'Credit Score', 'Property Type']\n",
        "\n",
        "    df = pd.read_csv(path)\n",
        "    df = df[features + [target]].copy()\n",
        "\n",
        "    categorical = df.select_dtypes(include=['object']).columns.tolist()\n",
        "\n",
        "    cat_col_transformer = Pipeline(steps=[\n",
        "        ('imputer', SimpleImputer(strategy='constant', fill_value='missing')),\n",
        "        ('encoder', OrdinalEncoder(handle_unknown='use_encoded_value', unknown_value=-1))\n",
        "    ])\n",
        "\n",
        "    transformer = ColumnTransformer(transformers=[\n",
        "        ('cat', cat_col_transformer, categorical)\n",
        "    ], remainder='passthrough')\n",
        "\n",
        "    transformed = transformer.fit_transform(df[features])\n",
        "\n",
        "    with open('preprocessor.bin', 'wb') as f_out:\n",
        "        pickle.dump(transformer, f_out)\n",
        "\n",
        "    X_train, X_temp, y_train, y_temp = train_test_split(transformed, df[target], test_size=0.3)\n",
        "    X_valid, X_test, y_valid, y_test = train_test_split(X_temp, y_temp, test_size=0.5)\n",
        "\n",
        "    dump_pickle((X_train, y_train), 'train.pkl')\n",
        "    dump_pickle((X_valid, y_valid), 'valid.pkl')\n",
        "    dump_pickle((X_test, y_test), 'test.pkl')\n",
        "\n",
        "prepare_data()"
      ],
      "metadata": {
        "id": "9f6LBC5dZFoH"
      },
      "execution_count": 9,
      "outputs": []
    },
    {
      "cell_type": "code",
      "source": [
        "def load_file(file_path):\n",
        "    with open(file_path, 'rb') as f_in:\n",
        "        return pickle.load(f_in)"
      ],
      "metadata": {
        "id": "_VEpHLcQPqqE"
      },
      "execution_count": 10,
      "outputs": []
    },
    {
      "cell_type": "markdown",
      "source": [
        "### Hyper parameter tuning"
      ],
      "metadata": {
        "id": "Ng_vBmAqFMPg"
      }
    },
    {
      "cell_type": "code",
      "source": [
        "def hyper_parameter_tuning(num_trials=10):\n",
        "\n",
        "    mlflow.set_tracking_uri(MLFLOW_TRACKING_URI)\n",
        "    mlflow.set_experiment('XGBoost Tuning')\n",
        "\n",
        "    X_train, y_train = load_file('train.pkl')\n",
        "    X_valid, y_valid = load_file('valid.pkl')\n",
        "    X_test, y_test = load_file('test.pkl')\n",
        "\n",
        "    def objective(params):\n",
        "\n",
        "        with mlflow.start_run():\n",
        "\n",
        "            mlflow.log_params(params)\n",
        "\n",
        "            model = xgb.XGBRegressor(**params, device='cuda')\n",
        "            model.fit(X_train, y_train)\n",
        "\n",
        "            y_pred = model.predict(X_valid)\n",
        "            rmse = root_mean_squared_error(y_valid, y_pred)\n",
        "\n",
        "            mlflow.log_metric('rmse', rmse)\n",
        "\n",
        "            return {'loss': rmse, 'status': STATUS_OK}\n",
        "\n",
        "    search_space = {\n",
        "        'max_depth': scope.int(hp.quniform('max_depth', 3, 15, 1)),\n",
        "        'n_estimators': scope.int(hp.quniform('n_estimators', 100, 2000, 50)),\n",
        "        'learning_rate': hp.loguniform('learning_rate', -3, 0),\n",
        "        'reg_alpha': hp.loguniform('reg_alpha', -3, 1),\n",
        "        'reg_lambda': hp.loguniform('reg_lambda', -3, 1)\n",
        "    }\n",
        "\n",
        "    best_result = fmin(\n",
        "        fn=objective,\n",
        "        space=search_space,\n",
        "        algo=tpe.suggest,\n",
        "        max_evals=num_trials,\n",
        "    )"
      ],
      "metadata": {
        "id": "ffBeqW5OiWNg"
      },
      "execution_count": 11,
      "outputs": []
    },
    {
      "cell_type": "code",
      "source": [
        "hyper_parameter_tuning()"
      ],
      "metadata": {
        "id": "IgfyYZpPqkmT",
        "colab": {
          "base_uri": "https://localhost:8080/"
        },
        "outputId": "d9a05373-501a-42c1-f86e-0f619aa77add"
      },
      "execution_count": 12,
      "outputs": [
        {
          "output_type": "stream",
          "name": "stderr",
          "text": [
            "2025/08/04 18:45:18 INFO mlflow.tracking.fluent: Experiment with name 'XGBoost Tuning' does not exist. Creating a new experiment.\n"
          ]
        },
        {
          "output_type": "stream",
          "name": "stdout",
          "text": [
            "\r  0%|          | 0/10 [00:00<?, ?trial/s, best loss=?]"
          ]
        },
        {
          "output_type": "stream",
          "name": "stderr",
          "text": [
            "/usr/local/lib/python3.11/dist-packages/xgboost/core.py:729: UserWarning: [18:45:49] WARNING: /workspace/src/common/error_msg.cc:58: Falling back to prediction using DMatrix due to mismatched devices. This might lead to higher memory usage and slower performance. XGBoost is running on: cuda:0, while the input data is on: cpu.\n",
            "Potential solutions:\n",
            "- Use a data structure that matches the device ordinal in the booster.\n",
            "- Set the device for booster before call to inplace_predict.\n",
            "\n",
            "This warning will only be shown once.\n",
            "\n",
            "  return func(**kwargs)\n",
            "\n"
          ]
        },
        {
          "output_type": "stream",
          "name": "stdout",
          "text": [
            "🏃 View run popular-shoat-257 at: http://ec2-56-228-36-113.eu-north-1.compute.amazonaws.com:5000/#/experiments/1/runs/a15eb48b794146958ac15060c6a326fc\n",
            "\n",
            "🧪 View experiment at: http://ec2-56-228-36-113.eu-north-1.compute.amazonaws.com:5000/#/experiments/1\n",
            "\n",
            "🏃 View run defiant-carp-995 at: http://ec2-56-228-36-113.eu-north-1.compute.amazonaws.com:5000/#/experiments/1/runs/7408a6b766ed482c9c5bd041186d70a8\n",
            "\n",
            "🧪 View experiment at: http://ec2-56-228-36-113.eu-north-1.compute.amazonaws.com:5000/#/experiments/1\n",
            "\n",
            "🏃 View run handsome-owl-461 at: http://ec2-56-228-36-113.eu-north-1.compute.amazonaws.com:5000/#/experiments/1/runs/ff9044c1d92b4cce91d561bc66b97cc7\n",
            "\n",
            "🧪 View experiment at: http://ec2-56-228-36-113.eu-north-1.compute.amazonaws.com:5000/#/experiments/1\n",
            "\n",
            "🏃 View run resilient-lynx-135 at: http://ec2-56-228-36-113.eu-north-1.compute.amazonaws.com:5000/#/experiments/1/runs/a5e2217714fd4d0e97ca40ff9656872e\n",
            "\n",
            "🧪 View experiment at: http://ec2-56-228-36-113.eu-north-1.compute.amazonaws.com:5000/#/experiments/1\n",
            "\n",
            "🏃 View run inquisitive-snake-37 at: http://ec2-56-228-36-113.eu-north-1.compute.amazonaws.com:5000/#/experiments/1/runs/473cd32cb53444f193b5041acc500708\n",
            "\n",
            "🧪 View experiment at: http://ec2-56-228-36-113.eu-north-1.compute.amazonaws.com:5000/#/experiments/1\n",
            "\n",
            "🏃 View run dashing-shark-158 at: http://ec2-56-228-36-113.eu-north-1.compute.amazonaws.com:5000/#/experiments/1/runs/e96868cb426a46c6b36df9a5d0a61ecd\n",
            "\n",
            "🧪 View experiment at: http://ec2-56-228-36-113.eu-north-1.compute.amazonaws.com:5000/#/experiments/1\n",
            "\n",
            "🏃 View run abundant-donkey-495 at: http://ec2-56-228-36-113.eu-north-1.compute.amazonaws.com:5000/#/experiments/1/runs/379536e84e7f4e81a0bc7a694412dbbb\n",
            "\n",
            "🧪 View experiment at: http://ec2-56-228-36-113.eu-north-1.compute.amazonaws.com:5000/#/experiments/1\n",
            "\n",
            "🏃 View run industrious-gnu-272 at: http://ec2-56-228-36-113.eu-north-1.compute.amazonaws.com:5000/#/experiments/1/runs/a5d3f157b2ce4d51bb8a2696f287d158\n",
            "\n",
            "🧪 View experiment at: http://ec2-56-228-36-113.eu-north-1.compute.amazonaws.com:5000/#/experiments/1\n",
            "\n",
            "🏃 View run bemused-grouse-472 at: http://ec2-56-228-36-113.eu-north-1.compute.amazonaws.com:5000/#/experiments/1/runs/c553e688ccb34059b857b05ddedfc0ac\n",
            "\n",
            "🧪 View experiment at: http://ec2-56-228-36-113.eu-north-1.compute.amazonaws.com:5000/#/experiments/1\n",
            "\n",
            "🏃 View run learned-shrimp-625 at: http://ec2-56-228-36-113.eu-north-1.compute.amazonaws.com:5000/#/experiments/1/runs/a1b597e1d79c4f41a5e3855ae28ff7fb\n",
            "\n",
            "🧪 View experiment at: http://ec2-56-228-36-113.eu-north-1.compute.amazonaws.com:5000/#/experiments/1\n",
            "\n",
            "100%|██████████| 10/10 [02:07<00:00, 12.75s/trial, best loss: 863.4146209530498]\n"
          ]
        }
      ]
    },
    {
      "cell_type": "markdown",
      "source": [
        "### Model Registry"
      ],
      "metadata": {
        "id": "YRejrwitFQQB"
      }
    },
    {
      "cell_type": "code",
      "source": [
        "def register_model():\n",
        "\n",
        "    HPO_EXPERIMENT_NAME = 'XGBoost Tuning'\n",
        "    EXPERIMENT_NAME = 'XGB MODELS'\n",
        "\n",
        "    mlflow.set_tracking_uri(MLFLOW_TRACKING_URI)\n",
        "    mlflow.set_experiment(EXPERIMENT_NAME)\n",
        "\n",
        "    def train_and_log_model(params):\n",
        "\n",
        "        X_train, y_train = load_file('train.pkl')\n",
        "        X_valid, y_valid = load_file('valid.pkl')\n",
        "        X_test, y_test = load_file('test.pkl')\n",
        "\n",
        "        with mlflow.start_run():\n",
        "            parsed_params = {k: int(v) if v.isdigit() else float(v) for k, v in params.items()}\n",
        "\n",
        "            model = xgb.XGBRegressor(**parsed_params, device='cuda')\n",
        "            model.fit(X_train, y_train)\n",
        "\n",
        "            y_pred = model.predict(X_test)\n",
        "            test_rmse = root_mean_squared_error(y_test, y_pred)\n",
        "            mlflow.log_metric(\"test_rmse\", test_rmse)\n",
        "\n",
        "            mlflow.log_artifact('preprocessor.bin')\n",
        "            mlflow.xgboost.log_model(model, artifact_path='model')\n",
        "\n",
        "    def run_register_model(top_n=3):\n",
        "\n",
        "        client = MlflowClient()\n",
        "\n",
        "        experiment = client.get_experiment_by_name(HPO_EXPERIMENT_NAME)\n",
        "        runs = client.search_runs(\n",
        "            experiment_ids=experiment.experiment_id,\n",
        "            run_view_type=ViewType.ACTIVE_ONLY,\n",
        "            max_results=top_n,\n",
        "            order_by=[\"metrics.rmse ASC\"]\n",
        "        )\n",
        "        for run in runs:\n",
        "            train_and_log_model(run.data.params)\n",
        "\n",
        "        experiment = client.get_experiment_by_name(EXPERIMENT_NAME)\n",
        "        best_run = client.search_runs(\n",
        "            experiment_ids=experiment.experiment_id,\n",
        "            order_by=['metrics.test_rmse ASC']\n",
        "        )[0]\n",
        "\n",
        "        mlflow.register_model(\n",
        "            model_uri=f'runs:/{best_run.info.run_id}/model',\n",
        "            name='BEST XGBOOST MODEL'\n",
        "        )\n",
        "\n",
        "    run_register_model()\n"
      ],
      "metadata": {
        "id": "dqDv1Q7c0hjy"
      },
      "execution_count": 13,
      "outputs": []
    },
    {
      "cell_type": "code",
      "source": [
        "register_model()"
      ],
      "metadata": {
        "id": "y17Nhz0IWbg5",
        "collapsed": true,
        "colab": {
          "base_uri": "https://localhost:8080/"
        },
        "outputId": "171a5e49-04b4-45d1-b588-bb30063cf6dd"
      },
      "execution_count": 14,
      "outputs": [
        {
          "output_type": "stream",
          "name": "stderr",
          "text": [
            "2025/08/04 18:49:43 INFO mlflow.tracking.fluent: Experiment with name 'XGB MODELS' does not exist. Creating a new experiment.\n",
            "2025/08/04 18:50:11 WARNING mlflow.models.model: `artifact_path` is deprecated. Please use `name` instead.\n",
            "/usr/local/lib/python3.11/dist-packages/xgboost/sklearn.py:1028: UserWarning: [18:50:17] WARNING: /workspace/src/c_api/c_api.cc:1427: Saving model in the UBJSON format as default.  You can use file extension: `json`, `ubj` or `deprecated` to choose between formats.\n",
            "  self.get_booster().save_model(fname)\n",
            "\u001b[31m2025/08/04 18:50:22 WARNING mlflow.models.model: Model logged without a signature and input example. Please set `input_example` parameter when logging the model to auto infer the model signature.\u001b[0m\n"
          ]
        },
        {
          "output_type": "stream",
          "name": "stdout",
          "text": [
            "🏃 View run zealous-bird-514 at: http://ec2-56-228-36-113.eu-north-1.compute.amazonaws.com:5000/#/experiments/2/runs/95dc2925694a4b248d37bd74a50fa3de\n",
            "🧪 View experiment at: http://ec2-56-228-36-113.eu-north-1.compute.amazonaws.com:5000/#/experiments/2\n"
          ]
        },
        {
          "output_type": "stream",
          "name": "stderr",
          "text": [
            "2025/08/04 18:50:36 WARNING mlflow.models.model: `artifact_path` is deprecated. Please use `name` instead.\n",
            "/usr/local/lib/python3.11/dist-packages/xgboost/sklearn.py:1028: UserWarning: [18:50:38] WARNING: /workspace/src/c_api/c_api.cc:1427: Saving model in the UBJSON format as default.  You can use file extension: `json`, `ubj` or `deprecated` to choose between formats.\n",
            "  self.get_booster().save_model(fname)\n",
            "\u001b[31m2025/08/04 18:50:41 WARNING mlflow.models.model: Model logged without a signature and input example. Please set `input_example` parameter when logging the model to auto infer the model signature.\u001b[0m\n"
          ]
        },
        {
          "output_type": "stream",
          "name": "stdout",
          "text": [
            "🏃 View run marvelous-pug-19 at: http://ec2-56-228-36-113.eu-north-1.compute.amazonaws.com:5000/#/experiments/2/runs/fe11aaa9631647c688bced0afeb94f89\n",
            "🧪 View experiment at: http://ec2-56-228-36-113.eu-north-1.compute.amazonaws.com:5000/#/experiments/2\n"
          ]
        },
        {
          "output_type": "stream",
          "name": "stderr",
          "text": [
            "2025/08/04 18:50:59 WARNING mlflow.models.model: `artifact_path` is deprecated. Please use `name` instead.\n",
            "/usr/local/lib/python3.11/dist-packages/xgboost/sklearn.py:1028: UserWarning: [18:51:05] WARNING: /workspace/src/c_api/c_api.cc:1427: Saving model in the UBJSON format as default.  You can use file extension: `json`, `ubj` or `deprecated` to choose between formats.\n",
            "  self.get_booster().save_model(fname)\n",
            "\u001b[31m2025/08/04 18:51:07 WARNING mlflow.models.model: Model logged without a signature and input example. Please set `input_example` parameter when logging the model to auto infer the model signature.\u001b[0m\n"
          ]
        },
        {
          "output_type": "stream",
          "name": "stdout",
          "text": [
            "🏃 View run unleashed-croc-11 at: http://ec2-56-228-36-113.eu-north-1.compute.amazonaws.com:5000/#/experiments/2/runs/ea8e0266d93b4e2a853ff73906935664\n",
            "🧪 View experiment at: http://ec2-56-228-36-113.eu-north-1.compute.amazonaws.com:5000/#/experiments/2\n"
          ]
        },
        {
          "output_type": "stream",
          "name": "stderr",
          "text": [
            "Successfully registered model 'BEST XGBOOST MODEL'.\n",
            "2025/08/04 18:51:23 WARNING mlflow.tracking._model_registry.fluent: Run with id 95dc2925694a4b248d37bd74a50fa3de has no artifacts at artifact path 'model', registering model based on models:/m-83cf6d47023347ce8ed1005ea991bacf instead\n",
            "2025/08/04 18:51:24 INFO mlflow.store.model_registry.abstract_store: Waiting up to 300 seconds for model version to finish creation. Model name: BEST XGBOOST MODEL, version 1\n",
            "Created version '1' of model 'BEST XGBOOST MODEL'.\n"
          ]
        }
      ]
    },
    {
      "cell_type": "code",
      "source": [],
      "metadata": {
        "id": "UbhI3csUWCJJ"
      },
      "execution_count": null,
      "outputs": []
    }
  ]
}